{
 "cells": [
  {
   "cell_type": "markdown",
   "id": "GEqQaHzsZ_bA",
   "metadata": {
    "id": "GEqQaHzsZ_bA"
   },
   "source": [
    "# Предсказание стоимости жилья\n",
    "\n",
    "В проекте вам нужно обучить модель линейной регрессии на данных о жилье в Калифорнии в 1990 году. На основе данных нужно предсказать медианную стоимость дома в жилом массиве. Обучите модель и сделайте предсказания на тестовой выборке. Для оценки качества модели используйте метрики RMSE, MAE и R2.\n",
    "В колонках датасета содержатся следующие данные:\n",
    "\n",
    "•\tlongitude — широта;\n",
    "\n",
    "•\tlatitude — долгота;\n",
    "\n",
    "•\thousing_median_age — медианный возраст жителей жилого массива;\n",
    "\n",
    "•\ttotal_rooms — общее количество комнат в домах жилого массива;\n",
    "\n",
    "•\ttotal_bedrooms — общее количество спален в домах жилого массива;\n",
    "\n",
    "•\tpopulation — количество человек, которые проживают в жилом массиве;\n",
    "\n",
    "•\thouseholds — количество домовладений в жилом массиве;\n",
    "\n",
    "•\tmedian_income — медианный доход жителей жилого массива;\n",
    "\n",
    "•\tmedian_house_value — медианная стоимость дома в жилом массиве;\n",
    "\n",
    "•\tocean_proximity — близость к океану.\n",
    "\n",
    "Постройте две модели линейной регрессии на разных наборах данных:\n",
    "\n",
    "- используя все данные из файла;\n",
    "\n",
    "- используя только числовые переменные, исключив категориальные.\n",
    "\n",
    "\n",
    "Сравните результаты работы линейной регрессии на двух наборах данных по метрикам RMSE, MAE и R2. Сделайте выводы."
   ]
  },
  {
   "cell_type": "code",
   "execution_count": 1,
   "id": "fb02d521",
   "metadata": {},
   "outputs": [],
   "source": [
    "import pandas as pd \n",
    "import numpy as np\n",
    "\n",
    "import pyspark\n",
    "import pyspark.sql.functions as F\n",
    "from pyspark.sql import SparkSession\n",
    "from pyspark.sql.types import *\n",
    "from pyspark.ml.feature import StringIndexer, VectorAssembler, StandardScaler, OneHotEncoder\n",
    "from pyspark.ml.regression import LinearRegression\n",
    "from pyspark.ml.evaluation import RegressionEvaluator\n",
    "from pyspark.ml import Pipeline\n",
    "\n",
    "RANDOM_SEED = 12345"
   ]
  },
  {
   "cell_type": "markdown",
   "id": "53871372",
   "metadata": {
    "id": "53871372"
   },
   "source": [
    "## Подготовка данных"
   ]
  },
  {
   "cell_type": "markdown",
   "id": "6f00c0a1",
   "metadata": {
    "id": "df92e3ec"
   },
   "source": [
    "###\tИнициализируем локальную Spark-сессию"
   ]
  },
  {
   "cell_type": "code",
   "execution_count": 2,
   "id": "6090ac6c",
   "metadata": {},
   "outputs": [],
   "source": [
    "spark = SparkSession.builder\\\n",
    "                    .master(\"local\")\\\n",
    "                    .appName(\"EDA California Housing\")\\\n",
    "                    .getOrCreate() "
   ]
  },
  {
   "cell_type": "markdown",
   "id": "3b14ed61",
   "metadata": {},
   "source": [
    "### Прочитаем содержимое файла /datasets/housing.csv. с помощью pySpark. "
   ]
  },
  {
   "cell_type": "code",
   "execution_count": 3,
   "id": "e5f72b45",
   "metadata": {
    "scrolled": true
   },
   "outputs": [
    {
     "name": "stderr",
     "output_type": "stream",
     "text": [
      "                                                                                \r"
     ]
    },
    {
     "name": "stdout",
     "output_type": "stream",
     "text": [
      "root\n",
      " |-- longitude: double (nullable = true)\n",
      " |-- latitude: double (nullable = true)\n",
      " |-- housing_median_age: double (nullable = true)\n",
      " |-- total_rooms: double (nullable = true)\n",
      " |-- total_bedrooms: double (nullable = true)\n",
      " |-- population: double (nullable = true)\n",
      " |-- households: double (nullable = true)\n",
      " |-- median_income: double (nullable = true)\n",
      " |-- median_house_value: double (nullable = true)\n",
      " |-- ocean_proximity: string (nullable = true)\n",
      "\n"
     ]
    }
   ],
   "source": [
    "df = spark.read.load('/datasets/housing.csv', format='csv', inferSchema=True, header='true')\n",
    "df.printSchema()"
   ]
  },
  {
   "cell_type": "markdown",
   "id": "9bbbf3d3",
   "metadata": {},
   "source": [
    "### Выведем названия колонок и их типы данных в виде таблицы, используя атрибут dtypes."
   ]
  },
  {
   "cell_type": "code",
   "execution_count": 4,
   "id": "632fbe3b",
   "metadata": {},
   "outputs": [
    {
     "name": "stdout",
     "output_type": "stream",
     "text": [
      "               column    type\n",
      "0           longitude  double\n",
      "1            latitude  double\n",
      "2  housing_median_age  double\n",
      "3         total_rooms  double\n",
      "4      total_bedrooms  double\n",
      "5          population  double\n",
      "6          households  double\n",
      "7       median_income  double\n",
      "8  median_house_value  double\n",
      "9     ocean_proximity  string\n"
     ]
    }
   ],
   "source": [
    "print(pd.DataFrame(df.dtypes, columns=['column', 'type']))"
   ]
  },
  {
   "cell_type": "markdown",
   "id": "5aa49bb7",
   "metadata": {},
   "source": [
    "### Из полученной таблици видно, что во всех столбцах значения числовые, кроме ocean_proximity. Изучим уникальные знаения в данном столбце."
   ]
  },
  {
   "cell_type": "code",
   "execution_count": 5,
   "id": "28c55be3",
   "metadata": {},
   "outputs": [
    {
     "name": "stderr",
     "output_type": "stream",
     "text": [
      "                                                                                \r"
     ]
    },
    {
     "data": {
      "text/html": [
       "<div>\n",
       "<style scoped>\n",
       "    .dataframe tbody tr th:only-of-type {\n",
       "        vertical-align: middle;\n",
       "    }\n",
       "\n",
       "    .dataframe tbody tr th {\n",
       "        vertical-align: top;\n",
       "    }\n",
       "\n",
       "    .dataframe thead th {\n",
       "        text-align: right;\n",
       "    }\n",
       "</style>\n",
       "<table border=\"1\" class=\"dataframe\">\n",
       "  <thead>\n",
       "    <tr style=\"text-align: right;\">\n",
       "      <th></th>\n",
       "      <th>ocean_proximity</th>\n",
       "      <th>count</th>\n",
       "    </tr>\n",
       "  </thead>\n",
       "  <tbody>\n",
       "    <tr>\n",
       "      <th>0</th>\n",
       "      <td>&lt;1H OCEAN</td>\n",
       "      <td>9136</td>\n",
       "    </tr>\n",
       "    <tr>\n",
       "      <th>1</th>\n",
       "      <td>INLAND</td>\n",
       "      <td>6551</td>\n",
       "    </tr>\n",
       "    <tr>\n",
       "      <th>2</th>\n",
       "      <td>NEAR OCEAN</td>\n",
       "      <td>2658</td>\n",
       "    </tr>\n",
       "    <tr>\n",
       "      <th>3</th>\n",
       "      <td>NEAR BAY</td>\n",
       "      <td>2290</td>\n",
       "    </tr>\n",
       "    <tr>\n",
       "      <th>4</th>\n",
       "      <td>ISLAND</td>\n",
       "      <td>5</td>\n",
       "    </tr>\n",
       "  </tbody>\n",
       "</table>\n",
       "</div>"
      ],
      "text/plain": [
       "  ocean_proximity  count\n",
       "0       <1H OCEAN   9136\n",
       "1          INLAND   6551\n",
       "2      NEAR OCEAN   2658\n",
       "3        NEAR BAY   2290\n",
       "4          ISLAND      5"
      ]
     },
     "execution_count": 5,
     "metadata": {},
     "output_type": "execute_result"
    }
   ],
   "source": [
    "df.groupBy('ocean_proximity').count().orderBy('count', ascending=False).toPandas()"
   ]
  },
  {
   "cell_type": "markdown",
   "id": "028e3b76",
   "metadata": {},
   "source": [
    "Из полученных данных видно, что только пять жилых массивов располагаются на островах, больше всего жилых массивов расположено в категрии <1H OCEAN."
   ]
  },
  {
   "cell_type": "markdown",
   "id": "a9126d26",
   "metadata": {},
   "source": [
    "###  Выведем ввиде таблицы в Pandas базовые описательные статистики данных с помощью метода describe()"
   ]
  },
  {
   "cell_type": "code",
   "execution_count": 7,
   "id": "97b09e32",
   "metadata": {},
   "outputs": [
    {
     "name": "stderr",
     "output_type": "stream",
     "text": [
      "                                                                                \r"
     ]
    },
    {
     "data": {
      "text/html": [
       "<div>\n",
       "<style scoped>\n",
       "    .dataframe tbody tr th:only-of-type {\n",
       "        vertical-align: middle;\n",
       "    }\n",
       "\n",
       "    .dataframe tbody tr th {\n",
       "        vertical-align: top;\n",
       "    }\n",
       "\n",
       "    .dataframe thead th {\n",
       "        text-align: right;\n",
       "    }\n",
       "</style>\n",
       "<table border=\"1\" class=\"dataframe\">\n",
       "  <thead>\n",
       "    <tr style=\"text-align: right;\">\n",
       "      <th></th>\n",
       "      <th>summary</th>\n",
       "      <th>longitude</th>\n",
       "      <th>latitude</th>\n",
       "      <th>housing_median_age</th>\n",
       "      <th>total_rooms</th>\n",
       "      <th>total_bedrooms</th>\n",
       "      <th>population</th>\n",
       "      <th>households</th>\n",
       "      <th>median_income</th>\n",
       "      <th>median_house_value</th>\n",
       "      <th>ocean_proximity</th>\n",
       "    </tr>\n",
       "  </thead>\n",
       "  <tbody>\n",
       "    <tr>\n",
       "      <th>0</th>\n",
       "      <td>count</td>\n",
       "      <td>20640</td>\n",
       "      <td>20640</td>\n",
       "      <td>20640</td>\n",
       "      <td>20640</td>\n",
       "      <td>20433</td>\n",
       "      <td>20640</td>\n",
       "      <td>20640</td>\n",
       "      <td>20640</td>\n",
       "      <td>20640</td>\n",
       "      <td>20640</td>\n",
       "    </tr>\n",
       "    <tr>\n",
       "      <th>1</th>\n",
       "      <td>mean</td>\n",
       "      <td>-119.56970445736148</td>\n",
       "      <td>35.6318614341087</td>\n",
       "      <td>28.639486434108527</td>\n",
       "      <td>2635.7630813953488</td>\n",
       "      <td>537.8705525375618</td>\n",
       "      <td>1425.4767441860465</td>\n",
       "      <td>499.5396802325581</td>\n",
       "      <td>3.8706710029070246</td>\n",
       "      <td>206855.81690891474</td>\n",
       "      <td>None</td>\n",
       "    </tr>\n",
       "    <tr>\n",
       "      <th>2</th>\n",
       "      <td>stddev</td>\n",
       "      <td>2.003531723502584</td>\n",
       "      <td>2.135952397457101</td>\n",
       "      <td>12.58555761211163</td>\n",
       "      <td>2181.6152515827944</td>\n",
       "      <td>421.38507007403115</td>\n",
       "      <td>1132.46212176534</td>\n",
       "      <td>382.3297528316098</td>\n",
       "      <td>1.899821717945263</td>\n",
       "      <td>115395.61587441359</td>\n",
       "      <td>None</td>\n",
       "    </tr>\n",
       "    <tr>\n",
       "      <th>3</th>\n",
       "      <td>min</td>\n",
       "      <td>-124.35</td>\n",
       "      <td>32.54</td>\n",
       "      <td>1.0</td>\n",
       "      <td>2.0</td>\n",
       "      <td>1.0</td>\n",
       "      <td>3.0</td>\n",
       "      <td>1.0</td>\n",
       "      <td>0.4999</td>\n",
       "      <td>14999.0</td>\n",
       "      <td>&lt;1H OCEAN</td>\n",
       "    </tr>\n",
       "    <tr>\n",
       "      <th>4</th>\n",
       "      <td>25%</td>\n",
       "      <td>-121.8</td>\n",
       "      <td>33.93</td>\n",
       "      <td>18.0</td>\n",
       "      <td>1447.0</td>\n",
       "      <td>296.0</td>\n",
       "      <td>787.0</td>\n",
       "      <td>280.0</td>\n",
       "      <td>2.5625</td>\n",
       "      <td>119600.0</td>\n",
       "      <td>None</td>\n",
       "    </tr>\n",
       "    <tr>\n",
       "      <th>5</th>\n",
       "      <td>50%</td>\n",
       "      <td>-118.49</td>\n",
       "      <td>34.26</td>\n",
       "      <td>29.0</td>\n",
       "      <td>2127.0</td>\n",
       "      <td>435.0</td>\n",
       "      <td>1166.0</td>\n",
       "      <td>409.0</td>\n",
       "      <td>3.5347</td>\n",
       "      <td>179700.0</td>\n",
       "      <td>None</td>\n",
       "    </tr>\n",
       "    <tr>\n",
       "      <th>6</th>\n",
       "      <td>75%</td>\n",
       "      <td>-118.01</td>\n",
       "      <td>37.71</td>\n",
       "      <td>37.0</td>\n",
       "      <td>3146.0</td>\n",
       "      <td>647.0</td>\n",
       "      <td>1724.0</td>\n",
       "      <td>605.0</td>\n",
       "      <td>4.7426</td>\n",
       "      <td>264700.0</td>\n",
       "      <td>None</td>\n",
       "    </tr>\n",
       "    <tr>\n",
       "      <th>7</th>\n",
       "      <td>max</td>\n",
       "      <td>-114.31</td>\n",
       "      <td>41.95</td>\n",
       "      <td>52.0</td>\n",
       "      <td>39320.0</td>\n",
       "      <td>6445.0</td>\n",
       "      <td>35682.0</td>\n",
       "      <td>6082.0</td>\n",
       "      <td>15.0001</td>\n",
       "      <td>500001.0</td>\n",
       "      <td>NEAR OCEAN</td>\n",
       "    </tr>\n",
       "  </tbody>\n",
       "</table>\n",
       "</div>"
      ],
      "text/plain": [
       "  summary            longitude           latitude  housing_median_age  \\\n",
       "0   count                20640              20640               20640   \n",
       "1    mean  -119.56970445736148   35.6318614341087  28.639486434108527   \n",
       "2  stddev    2.003531723502584  2.135952397457101   12.58555761211163   \n",
       "3     min              -124.35              32.54                 1.0   \n",
       "4     25%               -121.8              33.93                18.0   \n",
       "5     50%              -118.49              34.26                29.0   \n",
       "6     75%              -118.01              37.71                37.0   \n",
       "7     max              -114.31              41.95                52.0   \n",
       "\n",
       "          total_rooms      total_bedrooms          population  \\\n",
       "0               20640               20433               20640   \n",
       "1  2635.7630813953488   537.8705525375618  1425.4767441860465   \n",
       "2  2181.6152515827944  421.38507007403115    1132.46212176534   \n",
       "3                 2.0                 1.0                 3.0   \n",
       "4              1447.0               296.0               787.0   \n",
       "5              2127.0               435.0              1166.0   \n",
       "6              3146.0               647.0              1724.0   \n",
       "7             39320.0              6445.0             35682.0   \n",
       "\n",
       "          households       median_income  median_house_value ocean_proximity  \n",
       "0              20640               20640               20640           20640  \n",
       "1  499.5396802325581  3.8706710029070246  206855.81690891474            None  \n",
       "2  382.3297528316098   1.899821717945263  115395.61587441359            None  \n",
       "3                1.0              0.4999             14999.0       <1H OCEAN  \n",
       "4              280.0              2.5625            119600.0            None  \n",
       "5              409.0              3.5347            179700.0            None  \n",
       "6              605.0              4.7426            264700.0            None  \n",
       "7             6082.0             15.0001            500001.0      NEAR OCEAN  "
      ]
     },
     "execution_count": 7,
     "metadata": {},
     "output_type": "execute_result"
    }
   ],
   "source": [
    "df.summary().toPandas()"
   ]
  },
  {
   "cell_type": "markdown",
   "id": "6fdc308c",
   "metadata": {},
   "source": [
    "### Проверим наличие прорпусков в столбцах. "
   ]
  },
  {
   "cell_type": "code",
   "execution_count": 8,
   "id": "a6617815",
   "metadata": {},
   "outputs": [
    {
     "name": "stdout",
     "output_type": "stream",
     "text": [
      "longitude 0\n",
      "latitude 0\n",
      "housing_median_age 0\n",
      "total_rooms 0\n",
      "total_bedrooms 207\n",
      "population 0\n",
      "households 0\n",
      "median_income 0\n",
      "median_house_value 0\n",
      "ocean_proximity 0\n"
     ]
    }
   ],
   "source": [
    "columns = df.columns\n",
    "for column in columns:\n",
    "    print(column, df.where(F.isnan(column) | F.col(column).isNull()).count())\n"
   ]
  },
  {
   "cell_type": "markdown",
   "id": "c6fb4ad4",
   "metadata": {},
   "source": [
    "В столбце total_bedrooms 207 пропусков, заполним их медианой. Для начало определим значение медианы."
   ]
  },
  {
   "cell_type": "code",
   "execution_count": 9,
   "id": "5d4bb2f0",
   "metadata": {},
   "outputs": [
    {
     "data": {
      "text/plain": [
       "435.0"
      ]
     },
     "execution_count": 9,
     "metadata": {},
     "output_type": "execute_result"
    }
   ],
   "source": [
    "total_bedrooms_median = df.approxQuantile('total_bedrooms', [0.5], 0)[0]\n",
    "\n",
    "total_bedrooms_median"
   ]
  },
  {
   "cell_type": "code",
   "execution_count": 10,
   "id": "f84b1022",
   "metadata": {},
   "outputs": [],
   "source": [
    "df = df.fillna(total_bedrooms_median, subset=['total_bedrooms'])"
   ]
  },
  {
   "cell_type": "markdown",
   "id": "a9fbc4eb",
   "metadata": {},
   "source": [
    "### Проверим наличие пропусков."
   ]
  },
  {
   "cell_type": "code",
   "execution_count": 11,
   "id": "3c30e374",
   "metadata": {},
   "outputs": [
    {
     "name": "stdout",
     "output_type": "stream",
     "text": [
      "longitude 0\n",
      "latitude 0\n",
      "housing_median_age 0\n",
      "total_rooms 0\n",
      "total_bedrooms 0\n",
      "population 0\n",
      "households 0\n",
      "median_income 0\n",
      "median_house_value 0\n",
      "ocean_proximity 0\n"
     ]
    }
   ],
   "source": [
    "columns = df.columns\n",
    "for column in columns:\n",
    "    print(column, df.where(F.isnan(column) | F.col(column).isNull()).count())"
   ]
  },
  {
   "cell_type": "markdown",
   "id": "5db30b78",
   "metadata": {},
   "source": [
    "### Разделим колонки на числовые и текстовые и определим целевой признак"
   ]
  },
  {
   "cell_type": "code",
   "execution_count": 12,
   "id": "ce44d4d1",
   "metadata": {},
   "outputs": [
    {
     "data": {
      "text/plain": [
       "['longitude',\n",
       " 'latitude',\n",
       " 'housing_median_age',\n",
       " 'total_rooms',\n",
       " 'total_bedrooms',\n",
       " 'population',\n",
       " 'households',\n",
       " 'median_income']"
      ]
     },
     "execution_count": 12,
     "metadata": {},
     "output_type": "execute_result"
    }
   ],
   "source": [
    "categorical_cols = 'ocean_proximity'\n",
    "numerical_cols = [col for col in df.columns if col != 'ocean_proximity' and col !='median_house_value']\n",
    "target = 'median_house_value'\n",
    "numerical_cols"
   ]
  },
  {
   "cell_type": "markdown",
   "id": "e558897a",
   "metadata": {},
   "source": [
    "### Создаем шаги для преобразования категориальных колонок, которые кодируем с помощью OneHotEncoder"
   ]
  },
  {
   "cell_type": "code",
   "execution_count": 16,
   "id": "d9461e60",
   "metadata": {},
   "outputs": [],
   "source": [
    "stages = []\n",
    "indexer = StringIndexer(inputCol=categorical_cols, outputCol=categorical_cols + '_idx')\n",
    "encoder = OneHotEncoder(inputCol='ocean_proximity_idx', outputCol=categorical_cols +'_ohe')\n",
    "categorical_assembler = VectorAssembler(inputCols=['ocean_proximity_ohe'], outputCol='categorical_features')\n",
    "stages += [indexer, encoder, categorical_assembler]"
   ]
  },
  {
   "cell_type": "markdown",
   "id": "833e13fa",
   "metadata": {},
   "source": [
    "### Создаем шаги для преобразования числовых признаков, которые стандартизируем с помощью StandardScaler"
   ]
  },
  {
   "cell_type": "code",
   "execution_count": 18,
   "id": "490a2f6e",
   "metadata": {},
   "outputs": [],
   "source": [
    "numerical_assembler = VectorAssembler(inputCols=numerical_cols, outputCol=\"numerical_features\")\n",
    "standardScaler = StandardScaler(inputCol='numerical_features', outputCol=\"numerical_features_scaled\")\n",
    "all_features = ['categorical_features', 'numerical_features_scaled']\n",
    "final_assembler = VectorAssembler(inputCols=all_features, outputCol=\"features\")\n",
    "stages += [numerical_assembler, standardScaler, final_assembler ]"
   ]
  },
  {
   "cell_type": "code",
   "execution_count": 19,
   "id": "70ef5934",
   "metadata": {},
   "outputs": [
    {
     "data": {
      "text/plain": [
       "[StringIndexer_70e540a84d23,\n",
       " OneHotEncoder_02656dbd66ce,\n",
       " VectorAssembler_e30cdcc6f05d,\n",
       " VectorAssembler_0e54c6ad74d9,\n",
       " StandardScaler_0e0ced3cc76d,\n",
       " VectorAssembler_3b3f20051881]"
      ]
     },
     "execution_count": 19,
     "metadata": {},
     "output_type": "execute_result"
    }
   ],
   "source": [
    "stages"
   ]
  },
  {
   "cell_type": "markdown",
   "id": "33bdb943",
   "metadata": {},
   "source": [
    "На данном этапе проведено следующее:\n",
    "- Инициализировали локальную Spark-сессию и прочитали файл. Датасет состоит из 10 колонок и 20640 строк. \n",
    "- В колонке total_bedrooms обнаружены пропуски, данные пропуски заменили на медиану.\n",
    "- Создали шаги для преобразования категориальных колонок, которые кодируем с помощью OneHotEncoder \n",
    "- Создаем шаги для преобразования числовых признаков, которые стандартизируем с помощью StandardScaler"
   ]
  },
  {
   "cell_type": "markdown",
   "id": "9f0a82f3",
   "metadata": {
    "id": "9f0a82f3"
   },
   "source": [
    "## Обучение моделей"
   ]
  },
  {
   "cell_type": "markdown",
   "id": "e7ff1d8e",
   "metadata": {},
   "source": [
    "###  Прежде чем приступить к обучению модели, разделяем датасет на обучающую и тестовую выборки с помощью метода randomSplit()"
   ]
  },
  {
   "cell_type": "code",
   "execution_count": 24,
   "id": "bddb08c4",
   "metadata": {
    "id": "bddb08c4",
    "scrolled": false
   },
   "outputs": [
    {
     "name": "stdout",
     "output_type": "stream",
     "text": [
      "16431 4209\n"
     ]
    }
   ],
   "source": [
    "train_data, test_data = df.randomSplit([.8,.2], seed=RANDOM_SEED)\n",
    "print(train_data.count(), test_data.count()) \n"
   ]
  },
  {
   "cell_type": "markdown",
   "id": "0ebf30e8",
   "metadata": {},
   "source": [
    "### Сначала обучим модель линейной регресии, используя все данные из файла."
   ]
  },
  {
   "cell_type": "code",
   "execution_count": 26,
   "id": "7bf47174",
   "metadata": {},
   "outputs": [
    {
     "data": {
      "text/plain": [
       "[StringIndexer_70e540a84d23,\n",
       " OneHotEncoder_02656dbd66ce,\n",
       " VectorAssembler_e30cdcc6f05d,\n",
       " VectorAssembler_0e54c6ad74d9,\n",
       " StandardScaler_0e0ced3cc76d,\n",
       " VectorAssembler_3b3f20051881,\n",
       " LinearRegression_3d41a73e2dcd]"
      ]
     },
     "execution_count": 26,
     "metadata": {},
     "output_type": "execute_result"
    }
   ],
   "source": [
    "lr_all_features = LinearRegression(labelCol=target, featuresCol='features')\n",
    "stages_1 = stages + [lr_all_features]\n",
    "stages_1"
   ]
  },
  {
   "cell_type": "markdown",
   "id": "6b0918c1",
   "metadata": {},
   "source": [
    "#### Создаем pipeline для обучения первой модели, обучаем модель и делаем предсказания на тестовой вывборке."
   ]
  },
  {
   "cell_type": "code",
   "execution_count": 27,
   "id": "1836198e",
   "metadata": {},
   "outputs": [],
   "source": [
    "pipeline_all = Pipeline(stages=stages_1)"
   ]
  },
  {
   "cell_type": "code",
   "execution_count": 28,
   "id": "6c5df250",
   "metadata": {},
   "outputs": [
    {
     "name": "stderr",
     "output_type": "stream",
     "text": [
      "23/08/24 18:14:08 WARN Instrumentation: [c19b2df0] regParam is zero, which might cause numerical instability and overfitting.\n",
      "23/08/24 18:14:08 WARN BLAS: Failed to load implementation from: com.github.fommil.netlib.NativeSystemBLAS\n",
      "23/08/24 18:14:08 WARN BLAS: Failed to load implementation from: com.github.fommil.netlib.NativeRefBLAS\n",
      "23/08/24 18:14:09 WARN LAPACK: Failed to load implementation from: com.github.fommil.netlib.NativeSystemLAPACK\n",
      "23/08/24 18:14:09 WARN LAPACK: Failed to load implementation from: com.github.fommil.netlib.NativeRefLAPACK\n"
     ]
    }
   ],
   "source": [
    "model_1 = pipeline_all.fit(train_data)"
   ]
  },
  {
   "cell_type": "markdown",
   "id": "da81947b",
   "metadata": {},
   "source": [
    "#### Сохраним датасет с предсказаниями первой модели в переменной - predictions_all_features"
   ]
  },
  {
   "cell_type": "code",
   "execution_count": 30,
   "id": "242b8c39",
   "metadata": {},
   "outputs": [],
   "source": [
    "predictions_all_features = model_1.transform(test_data)"
   ]
  },
  {
   "cell_type": "code",
   "execution_count": 31,
   "id": "a5945d0d",
   "metadata": {},
   "outputs": [],
   "source": [
    "predictions_col = 'prediction'"
   ]
  },
  {
   "cell_type": "markdown",
   "id": "3a309e7e",
   "metadata": {},
   "source": [
    "###  Теперь обучим модель линейной регресии, используя только числовые признаки."
   ]
  },
  {
   "cell_type": "code",
   "execution_count": 33,
   "id": "5ec718b1",
   "metadata": {},
   "outputs": [],
   "source": [
    "lr_numeric_features = LinearRegression(labelCol=target, featuresCol='numerical_features_scaled')"
   ]
  },
  {
   "cell_type": "code",
   "execution_count": 34,
   "id": "f637ac8b",
   "metadata": {
    "scrolled": true
   },
   "outputs": [
    {
     "data": {
      "text/plain": [
       "[StringIndexer_70e540a84d23,\n",
       " OneHotEncoder_02656dbd66ce,\n",
       " VectorAssembler_e30cdcc6f05d,\n",
       " VectorAssembler_0e54c6ad74d9,\n",
       " StandardScaler_0e0ced3cc76d,\n",
       " VectorAssembler_3b3f20051881,\n",
       " LinearRegression_70f941562e3f]"
      ]
     },
     "execution_count": 34,
     "metadata": {},
     "output_type": "execute_result"
    }
   ],
   "source": [
    "stages_2 = stages + [lr_numeric_features]\n",
    "stages_2"
   ]
  },
  {
   "cell_type": "markdown",
   "id": "92f26be7",
   "metadata": {},
   "source": [
    "#### Создаем pipeline для обучения второй модели, обучаем модель и делаем предсказания на тестовой вывборке."
   ]
  },
  {
   "cell_type": "code",
   "execution_count": 35,
   "id": "4676ef7b",
   "metadata": {},
   "outputs": [
    {
     "name": "stderr",
     "output_type": "stream",
     "text": [
      "23/08/24 18:14:13 WARN Instrumentation: [56288805] regParam is zero, which might cause numerical instability and overfitting.\n"
     ]
    }
   ],
   "source": [
    "pipeline_col = Pipeline(stages=stages_2)\n",
    "model_2 = pipeline_col.fit(train_data)"
   ]
  },
  {
   "cell_type": "markdown",
   "id": "a206dd80",
   "metadata": {},
   "source": [
    "#### Сохраним датасет с предсказаниями второй модели в переменной - predictions_numeric_features"
   ]
  },
  {
   "cell_type": "code",
   "execution_count": 36,
   "id": "d20a4527",
   "metadata": {},
   "outputs": [],
   "source": [
    " predictions_numeric_features = model_2.transform(test_data)"
   ]
  },
  {
   "cell_type": "markdown",
   "id": "8415c305",
   "metadata": {},
   "source": [
    "На данном этапе мы разбили данные на две выборки, обучающую и тестовую в соотношении 80% - 20%. Провели обучениен двух моделей логической регрессии, одну их них обучали на всех данных, другую только на числовых признаках. Получили предсказания обеих моделей. Теперь необходимо оценить результьаты."
   ]
  },
  {
   "cell_type": "markdown",
   "id": "757fd103",
   "metadata": {
    "id": "757fd103"
   },
   "source": [
    "## Анализ результатов"
   ]
  },
  {
   "cell_type": "markdown",
   "id": "172f29a8",
   "metadata": {},
   "source": [
    "Сравним результаты работы линейной регрессии на двух наборах данных по метрикам RMSE, MAE и R2. "
   ]
  },
  {
   "cell_type": "markdown",
   "id": "b53d26f9",
   "metadata": {},
   "source": [
    "### Для анализа результатов работы модели создадим объект класса RegressionEvaluator:"
   ]
  },
  {
   "cell_type": "code",
   "execution_count": 37,
   "id": "08f2ba0e",
   "metadata": {},
   "outputs": [],
   "source": [
    "evaluator = RegressionEvaluator(predictionCol=predictions_col, labelCol=target)"
   ]
  },
  {
   "cell_type": "markdown",
   "id": "66d2c1df",
   "metadata": {},
   "source": [
    "### Расчитаем метрику RMSE для обоих моделей."
   ]
  },
  {
   "cell_type": "code",
   "execution_count": 38,
   "id": "25615aee",
   "metadata": {},
   "outputs": [
    {
     "name": "stderr",
     "output_type": "stream",
     "text": [
      "                                                                                \r"
     ]
    },
    {
     "name": "stdout",
     "output_type": "stream",
     "text": [
      "RMSE model: 67710.876101571\n",
      "RMSE model_2: 68813.70677046082\n"
     ]
    }
   ],
   "source": [
    "print('RMSE model:', evaluator.evaluate(predictions_all_features, {evaluator.metricName: \"rmse\"}))\n",
    "print('RMSE model_2:', evaluator.evaluate(predictions_numeric_features, {evaluator.metricName: \"rmse\"}))"
   ]
  },
  {
   "cell_type": "markdown",
   "id": "35bab706",
   "metadata": {},
   "source": [
    "### Расчитаем метрику MAE для обоих моделей."
   ]
  },
  {
   "cell_type": "code",
   "execution_count": 39,
   "id": "ebbe86f0",
   "metadata": {},
   "outputs": [
    {
     "name": "stdout",
     "output_type": "stream",
     "text": [
      "MAE model: 49104.5052138644\n",
      "MAE model_2: 50311.01785165393\n"
     ]
    }
   ],
   "source": [
    "print('MAE model:', evaluator.evaluate(predictions_all_features, {evaluator.metricName: \"mae\"}))\n",
    "print('MAE model_2:', evaluator.evaluate(predictions_numeric_features, {evaluator.metricName: \"mae\"}))"
   ]
  },
  {
   "cell_type": "markdown",
   "id": "d6cb6fb9",
   "metadata": {},
   "source": [
    "### Расчитаем метрику R2 для обоих моделей."
   ]
  },
  {
   "cell_type": "code",
   "execution_count": 40,
   "id": "5ed67c5c",
   "metadata": {
    "scrolled": true
   },
   "outputs": [
    {
     "name": "stdout",
     "output_type": "stream",
     "text": [
      "R2 model: 0.6588338487963326\n",
      "R2 model_2: 0.6476299606813949\n"
     ]
    }
   ],
   "source": [
    "print('R2 model:', evaluator.evaluate(predictions_all_features, {evaluator.metricName: \"r2\"}))\n",
    "print('R2 model_2:', evaluator.evaluate(predictions_numeric_features, {evaluator.metricName: \"r2\"}))"
   ]
  },
  {
   "cell_type": "code",
   "execution_count": null,
   "id": "875b7af9",
   "metadata": {},
   "outputs": [],
   "source": [
    "spark.stop()"
   ]
  },
  {
   "cell_type": "markdown",
   "id": "759a5847",
   "metadata": {},
   "source": [
    "Вывод: Из полученных метрик для обеих моделей мы видим, что лучшие показетели у модели линейной регресии орбученной на всех данных (категориальных и числовых). RMSE и MAE первой модели меньше, чем у второй. А R2 выше у первой модели, чем у второй."
   ]
  },
  {
   "cell_type": "markdown",
   "id": "1d94244d",
   "metadata": {},
   "source": [
    "**Итоговый вывод:**\n",
    "Перед нами стояла задача обучить модель линейной регрессии на данных о жилье в Калифорнии в 1990 году. На основе этих данных нужно было предсказать медианную стоимость дома в жилом массиве. Для оценки качества модели необходимо было испольхзлвать метрики RMSE, MAE и R2. \n",
    "Для решения данно задачи нами было следано следующее:\n",
    "- Инициализирована локальная Spark-сессию и прочитан файл. \n",
    "- Изучив данные, увидели, что во всех столбцах кроме total_bedrooms нет пропусков. Пропуски в столбце total_bedrooms заменили медианой.\n",
    "- Провели трансформирование и кодирование категориальных признаков с помощью StringIndexer и OneHotEncoder соответсвенно.\n",
    "- Числовые признаки масштабировали с помощью StandardScaler предварительно объеденив числовые признаки в один вектор. \n",
    "- Затем объеденили числовые и категориальные признаки в один вектор с помощью VectorAssembler\n",
    "- Для обучения модели данны разбили на две выборки: обучающую и тестовую в соотвношении 80 -20.\n",
    "- Провели обучениен двух моделей логической регрессии, одну из них обучали на всех данных, другую только на числовых признаках. Получили предсказания.\n",
    "\n",
    "При проведении анализа результатов обеих моделей были расчитаны следующие метрики:\n",
    "1. RMSE\n",
    "\n",
    "RMSE model: 67710.87610131004\n",
    "\n",
    "RMSE model_2: 68813.70677023288\n",
    "\n",
    "2. MAE\n",
    "\n",
    "MAE model: 49104.50521339809\n",
    "\n",
    "MAE model_2: 50311.01785124337\n",
    "\n",
    "3. R2\n",
    "\n",
    "R2 model: 0.6588338487989622\n",
    "\n",
    "R2 model_2: 0.6476299606837294\n",
    "\n",
    "Из полученных данных видно, что первая модель линейной регресии, обученная на все данных (категориальных и числовых) показала более хорошиен результаты,  чем вторая, обученная только гна чиловых признаках."
   ]
  }
 ],
 "metadata": {
  "ExecuteTimeLog": [
   {
    "duration": 766,
    "start_time": "2023-08-23T14:14:39.669Z"
   },
   {
    "duration": 14969,
    "start_time": "2023-08-23T14:18:09.820Z"
   },
   {
    "duration": 8848,
    "start_time": "2023-08-23T14:25:09.110Z"
   },
   {
    "duration": 950,
    "start_time": "2023-08-23T14:25:28.162Z"
   },
   {
    "duration": 34,
    "start_time": "2023-08-23T14:30:01.550Z"
   },
   {
    "duration": 8,
    "start_time": "2023-08-23T14:30:59.218Z"
   },
   {
    "duration": 5249,
    "start_time": "2023-08-23T14:35:45.845Z"
   },
   {
    "duration": 8365,
    "start_time": "2023-08-23T14:38:41.224Z"
   },
   {
    "duration": 5006,
    "start_time": "2023-08-23T14:40:24.391Z"
   },
   {
    "duration": 1088,
    "start_time": "2023-08-23T14:46:24.856Z"
   },
   {
    "duration": 4613,
    "start_time": "2023-08-23T14:54:36.314Z"
   },
   {
    "duration": 2683,
    "start_time": "2023-08-23T14:57:02.604Z"
   },
   {
    "duration": 2160,
    "start_time": "2023-08-23T15:02:54.461Z"
   },
   {
    "duration": 577,
    "start_time": "2023-08-23T15:28:35.121Z"
   },
   {
    "duration": 37,
    "start_time": "2023-08-23T15:29:39.563Z"
   },
   {
    "duration": 2071,
    "start_time": "2023-08-23T15:30:29.956Z"
   },
   {
    "duration": 64,
    "start_time": "2023-08-23T18:18:31.157Z"
   },
   {
    "duration": 692,
    "start_time": "2023-08-23T18:18:48.410Z"
   },
   {
    "duration": 16467,
    "start_time": "2023-08-23T18:18:49.104Z"
   },
   {
    "duration": 10321,
    "start_time": "2023-08-23T18:19:05.574Z"
   },
   {
    "duration": 98,
    "start_time": "2023-08-23T18:19:15.897Z"
   },
   {
    "duration": 11455,
    "start_time": "2023-08-23T18:19:15.998Z"
   },
   {
    "duration": 1216,
    "start_time": "2023-08-23T18:19:27.455Z"
   },
   {
    "duration": 4023,
    "start_time": "2023-08-23T18:19:28.674Z"
   },
   {
    "duration": 667,
    "start_time": "2023-08-23T18:19:32.699Z"
   },
   {
    "duration": 100,
    "start_time": "2023-08-23T18:19:33.368Z"
   },
   {
    "duration": 2950,
    "start_time": "2023-08-23T18:19:33.471Z"
   },
   {
    "duration": 143,
    "start_time": "2023-08-23T18:19:36.423Z"
   },
   {
    "duration": 5,
    "start_time": "2023-08-23T18:20:09.492Z"
   },
   {
    "duration": 10,
    "start_time": "2023-08-23T18:23:45.022Z"
   },
   {
    "duration": 9,
    "start_time": "2023-08-23T18:27:05.229Z"
   },
   {
    "duration": 105,
    "start_time": "2023-08-23T18:28:12.578Z"
   },
   {
    "duration": 15,
    "start_time": "2023-08-23T18:28:27.137Z"
   },
   {
    "duration": 10,
    "start_time": "2023-08-23T18:29:02.113Z"
   },
   {
    "duration": 5,
    "start_time": "2023-08-23T18:29:20.783Z"
   },
   {
    "duration": 5,
    "start_time": "2023-08-23T18:35:18.187Z"
   },
   {
    "duration": 9,
    "start_time": "2023-08-23T18:36:14.209Z"
   },
   {
    "duration": 142,
    "start_time": "2023-08-23T18:36:45.100Z"
   },
   {
    "duration": 136,
    "start_time": "2023-08-23T18:38:19.401Z"
   },
   {
    "duration": 7,
    "start_time": "2023-08-23T18:39:57.212Z"
   },
   {
    "duration": 7,
    "start_time": "2023-08-23T18:40:10.243Z"
   },
   {
    "duration": 1299,
    "start_time": "2023-08-23T18:40:27.677Z"
   },
   {
    "duration": 114,
    "start_time": "2023-08-23T18:43:13.668Z"
   },
   {
    "duration": 131,
    "start_time": "2023-08-23T18:44:09.921Z"
   },
   {
    "duration": 112,
    "start_time": "2023-08-23T18:46:06.973Z"
   },
   {
    "duration": 180,
    "start_time": "2023-08-23T18:46:46.732Z"
   },
   {
    "duration": 650,
    "start_time": "2023-08-23T18:47:09.048Z"
   },
   {
    "duration": 15100,
    "start_time": "2023-08-23T18:47:09.700Z"
   },
   {
    "duration": 8530,
    "start_time": "2023-08-23T18:47:24.854Z"
   },
   {
    "duration": 96,
    "start_time": "2023-08-23T18:47:33.386Z"
   },
   {
    "duration": 9892,
    "start_time": "2023-08-23T18:47:33.485Z"
   },
   {
    "duration": 1094,
    "start_time": "2023-08-23T18:47:43.379Z"
   },
   {
    "duration": 3280,
    "start_time": "2023-08-23T18:47:44.475Z"
   },
   {
    "duration": 619,
    "start_time": "2023-08-23T18:47:47.757Z"
   },
   {
    "duration": 94,
    "start_time": "2023-08-23T18:47:48.378Z"
   },
   {
    "duration": 2530,
    "start_time": "2023-08-23T18:47:48.474Z"
   },
   {
    "duration": 115,
    "start_time": "2023-08-23T18:47:51.006Z"
   },
   {
    "duration": 0,
    "start_time": "2023-08-23T18:47:51.123Z"
   },
   {
    "duration": 4,
    "start_time": "2023-08-23T18:49:09.820Z"
   },
   {
    "duration": 9,
    "start_time": "2023-08-23T18:49:14.168Z"
   },
   {
    "duration": 1314,
    "start_time": "2023-08-23T18:49:30.645Z"
   },
   {
    "duration": 150,
    "start_time": "2023-08-23T18:50:50.765Z"
   },
   {
    "duration": 708,
    "start_time": "2023-08-23T18:51:08.479Z"
   },
   {
    "duration": 15199,
    "start_time": "2023-08-23T18:51:09.189Z"
   },
   {
    "duration": 8491,
    "start_time": "2023-08-23T18:51:24.390Z"
   },
   {
    "duration": 98,
    "start_time": "2023-08-23T18:51:32.883Z"
   },
   {
    "duration": 10495,
    "start_time": "2023-08-23T18:51:32.984Z"
   },
   {
    "duration": 1005,
    "start_time": "2023-08-23T18:51:43.481Z"
   },
   {
    "duration": 3477,
    "start_time": "2023-08-23T18:51:44.487Z"
   },
   {
    "duration": 623,
    "start_time": "2023-08-23T18:51:47.966Z"
   },
   {
    "duration": 87,
    "start_time": "2023-08-23T18:51:48.591Z"
   },
   {
    "duration": 2631,
    "start_time": "2023-08-23T18:51:48.679Z"
   },
   {
    "duration": 7,
    "start_time": "2023-08-23T18:51:51.312Z"
   },
   {
    "duration": 1467,
    "start_time": "2023-08-23T18:51:51.353Z"
   },
   {
    "duration": 246,
    "start_time": "2023-08-23T18:54:50.812Z"
   },
   {
    "duration": 19,
    "start_time": "2023-08-23T18:57:18.328Z"
   },
   {
    "duration": 88,
    "start_time": "2023-08-23T18:59:13.391Z"
   },
   {
    "duration": 610,
    "start_time": "2023-08-23T18:59:32.242Z"
   },
   {
    "duration": 52,
    "start_time": "2023-08-23T19:06:07.044Z"
   },
   {
    "duration": 1208,
    "start_time": "2023-08-23T19:14:34.445Z"
   },
   {
    "duration": 123,
    "start_time": "2023-08-23T19:16:08.051Z"
   },
   {
    "duration": 110,
    "start_time": "2023-08-23T19:16:25.053Z"
   },
   {
    "duration": 695,
    "start_time": "2023-08-23T19:16:31.704Z"
   },
   {
    "duration": 15462,
    "start_time": "2023-08-23T19:16:32.401Z"
   },
   {
    "duration": 9524,
    "start_time": "2023-08-23T19:16:47.865Z"
   },
   {
    "duration": 31,
    "start_time": "2023-08-23T19:16:57.454Z"
   },
   {
    "duration": 11489,
    "start_time": "2023-08-23T19:16:57.487Z"
   },
   {
    "duration": 1308,
    "start_time": "2023-08-23T19:17:08.978Z"
   },
   {
    "duration": 3964,
    "start_time": "2023-08-23T19:17:10.288Z"
   },
   {
    "duration": 625,
    "start_time": "2023-08-23T19:17:14.255Z"
   },
   {
    "duration": 97,
    "start_time": "2023-08-23T19:17:14.882Z"
   },
   {
    "duration": 3398,
    "start_time": "2023-08-23T19:17:14.982Z"
   },
   {
    "duration": 6,
    "start_time": "2023-08-23T19:17:18.382Z"
   },
   {
    "duration": 1875,
    "start_time": "2023-08-23T19:17:18.389Z"
   },
   {
    "duration": 699,
    "start_time": "2023-08-23T19:17:20.266Z"
   },
   {
    "duration": 107,
    "start_time": "2023-08-23T19:17:20.967Z"
   },
   {
    "duration": 1389,
    "start_time": "2023-08-23T19:17:21.076Z"
   },
   {
    "duration": 6,
    "start_time": "2023-08-23T19:17:35.069Z"
   },
   {
    "duration": 25,
    "start_time": "2023-08-23T19:22:23.169Z"
   },
   {
    "duration": 7,
    "start_time": "2023-08-23T19:22:39.096Z"
   },
   {
    "duration": 75,
    "start_time": "2023-08-23T19:23:22.799Z"
   },
   {
    "duration": 140,
    "start_time": "2023-08-23T19:23:31.834Z"
   },
   {
    "duration": 330,
    "start_time": "2023-08-23T19:24:01.335Z"
   },
   {
    "duration": 7,
    "start_time": "2023-08-23T19:24:43.195Z"
   },
   {
    "duration": 249,
    "start_time": "2023-08-23T19:24:53.003Z"
   },
   {
    "duration": 2535,
    "start_time": "2023-08-23T19:35:14.238Z"
   },
   {
    "duration": 3599,
    "start_time": "2023-08-23T19:41:49.927Z"
   },
   {
    "duration": 22,
    "start_time": "2023-08-23T19:47:01.737Z"
   },
   {
    "duration": 2,
    "start_time": "2023-08-23T19:51:10.565Z"
   },
   {
    "duration": 3133,
    "start_time": "2023-08-23T19:55:21.974Z"
   },
   {
    "duration": 98,
    "start_time": "2023-08-23T19:55:53.743Z"
   },
   {
    "duration": 2164,
    "start_time": "2023-08-23T19:56:20.400Z"
   },
   {
    "duration": 29,
    "start_time": "2023-08-23T19:56:48.124Z"
   },
   {
    "duration": 10,
    "start_time": "2023-08-23T20:03:31.511Z"
   },
   {
    "duration": 133,
    "start_time": "2023-08-23T20:06:46.428Z"
   },
   {
    "duration": 3,
    "start_time": "2023-08-23T20:07:33.317Z"
   },
   {
    "duration": 8,
    "start_time": "2023-08-23T20:07:37.516Z"
   },
   {
    "duration": 796,
    "start_time": "2023-08-23T20:07:38.891Z"
   },
   {
    "duration": 1262,
    "start_time": "2023-08-23T20:08:22.004Z"
   },
   {
    "duration": 923,
    "start_time": "2023-08-23T20:09:49.385Z"
   },
   {
    "duration": 1087,
    "start_time": "2023-08-23T20:11:27.510Z"
   },
   {
    "duration": 1092,
    "start_time": "2023-08-23T20:28:50.801Z"
   },
   {
    "duration": 1022,
    "start_time": "2023-08-23T20:28:54.039Z"
   },
   {
    "duration": 726,
    "start_time": "2023-08-23T20:31:12.852Z"
   },
   {
    "duration": 14819,
    "start_time": "2023-08-23T20:31:13.579Z"
   },
   {
    "duration": 8576,
    "start_time": "2023-08-23T20:31:28.400Z"
   },
   {
    "duration": 83,
    "start_time": "2023-08-23T20:31:36.978Z"
   },
   {
    "duration": 9620,
    "start_time": "2023-08-23T20:31:37.064Z"
   },
   {
    "duration": 911,
    "start_time": "2023-08-23T20:31:46.752Z"
   },
   {
    "duration": 3831,
    "start_time": "2023-08-23T20:31:47.665Z"
   },
   {
    "duration": 625,
    "start_time": "2023-08-23T20:31:51.553Z"
   },
   {
    "duration": 88,
    "start_time": "2023-08-23T20:31:52.180Z"
   },
   {
    "duration": 2882,
    "start_time": "2023-08-23T20:31:52.270Z"
   },
   {
    "duration": 9,
    "start_time": "2023-08-23T20:31:55.154Z"
   },
   {
    "duration": 1589,
    "start_time": "2023-08-23T20:31:55.164Z"
   },
   {
    "duration": 499,
    "start_time": "2023-08-23T20:31:56.754Z"
   },
   {
    "duration": 111,
    "start_time": "2023-08-23T20:31:57.255Z"
   },
   {
    "duration": 1305,
    "start_time": "2023-08-23T20:31:57.368Z"
   },
   {
    "duration": 5,
    "start_time": "2023-08-23T20:31:58.675Z"
   },
   {
    "duration": 86,
    "start_time": "2023-08-23T20:31:58.682Z"
   },
   {
    "duration": 384,
    "start_time": "2023-08-23T20:31:58.770Z"
   },
   {
    "duration": 5,
    "start_time": "2023-08-23T20:31:59.155Z"
   },
   {
    "duration": 2905,
    "start_time": "2023-08-23T20:31:59.162Z"
   },
   {
    "duration": 3489,
    "start_time": "2023-08-23T20:32:02.068Z"
   },
   {
    "duration": 18,
    "start_time": "2023-08-23T20:32:05.558Z"
   },
   {
    "duration": 4,
    "start_time": "2023-08-23T20:32:05.578Z"
   },
   {
    "duration": 2574,
    "start_time": "2023-08-23T20:32:05.584Z"
   },
   {
    "duration": 22,
    "start_time": "2023-08-23T20:32:08.160Z"
   },
   {
    "duration": 76,
    "start_time": "2023-08-23T20:32:08.184Z"
   },
   {
    "duration": 1903,
    "start_time": "2023-08-23T20:32:08.263Z"
   },
   {
    "duration": 1429,
    "start_time": "2023-08-23T20:32:10.168Z"
   },
   {
    "duration": 1271,
    "start_time": "2023-08-23T20:32:11.600Z"
   },
   {
    "duration": 65,
    "start_time": "2023-08-24T06:22:56.456Z"
   },
   {
    "duration": 865,
    "start_time": "2023-08-24T06:23:13.939Z"
   },
   {
    "duration": 19082,
    "start_time": "2023-08-24T06:23:14.807Z"
   },
   {
    "duration": 13090,
    "start_time": "2023-08-24T06:23:33.892Z"
   },
   {
    "duration": 104,
    "start_time": "2023-08-24T06:23:46.988Z"
   },
   {
    "duration": 14868,
    "start_time": "2023-08-24T06:23:47.094Z"
   },
   {
    "duration": 1435,
    "start_time": "2023-08-24T06:24:01.965Z"
   },
   {
    "duration": 5566,
    "start_time": "2023-08-24T06:24:03.403Z"
   },
   {
    "duration": 817,
    "start_time": "2023-08-24T06:24:08.973Z"
   },
   {
    "duration": 170,
    "start_time": "2023-08-24T06:24:09.792Z"
   },
   {
    "duration": 3554,
    "start_time": "2023-08-24T06:24:09.966Z"
   },
   {
    "duration": 5,
    "start_time": "2023-08-24T06:24:13.522Z"
   },
   {
    "duration": 2035,
    "start_time": "2023-08-24T06:24:13.561Z"
   },
   {
    "duration": 828,
    "start_time": "2023-08-24T06:24:15.658Z"
   },
   {
    "duration": 176,
    "start_time": "2023-08-24T06:24:16.488Z"
   },
   {
    "duration": 1812,
    "start_time": "2023-08-24T06:24:16.667Z"
   },
   {
    "duration": 12,
    "start_time": "2023-08-24T06:24:18.481Z"
   },
   {
    "duration": 164,
    "start_time": "2023-08-24T06:24:18.495Z"
   },
   {
    "duration": 513,
    "start_time": "2023-08-24T06:24:18.662Z"
   },
   {
    "duration": 12,
    "start_time": "2023-08-24T06:24:19.177Z"
   },
   {
    "duration": 3500,
    "start_time": "2023-08-24T06:24:19.192Z"
   },
   {
    "duration": 5283,
    "start_time": "2023-08-24T06:24:22.695Z"
   },
   {
    "duration": 26,
    "start_time": "2023-08-24T06:24:27.985Z"
   },
   {
    "duration": 18,
    "start_time": "2023-08-24T06:24:28.065Z"
   },
   {
    "duration": 3674,
    "start_time": "2023-08-24T06:24:28.087Z"
   },
   {
    "duration": 36,
    "start_time": "2023-08-24T06:24:31.763Z"
   },
   {
    "duration": 63,
    "start_time": "2023-08-24T06:24:31.803Z"
   },
   {
    "duration": 2219,
    "start_time": "2023-08-24T06:24:31.868Z"
   },
   {
    "duration": 1969,
    "start_time": "2023-08-24T06:24:34.092Z"
   },
   {
    "duration": 1630,
    "start_time": "2023-08-24T06:24:36.063Z"
   },
   {
    "duration": 52,
    "start_time": "2023-08-24T08:27:27.567Z"
   },
   {
    "duration": 756,
    "start_time": "2023-08-24T08:27:35.955Z"
   },
   {
    "duration": 16983,
    "start_time": "2023-08-24T08:27:36.713Z"
   },
   {
    "duration": 11987,
    "start_time": "2023-08-24T08:27:53.699Z"
   },
   {
    "duration": 101,
    "start_time": "2023-08-24T08:28:05.688Z"
   },
   {
    "duration": 13489,
    "start_time": "2023-08-24T08:28:05.793Z"
   },
   {
    "duration": 1131,
    "start_time": "2023-08-24T08:28:19.284Z"
   },
   {
    "duration": 5276,
    "start_time": "2023-08-24T08:28:20.417Z"
   },
   {
    "duration": 4602,
    "start_time": "2023-08-24T08:28:25.696Z"
   },
   {
    "duration": 627,
    "start_time": "2023-08-24T08:28:30.360Z"
   },
   {
    "duration": 175,
    "start_time": "2023-08-24T08:28:30.990Z"
   },
   {
    "duration": 3902,
    "start_time": "2023-08-24T08:28:31.169Z"
   },
   {
    "duration": 12,
    "start_time": "2023-08-24T08:28:35.073Z"
   },
   {
    "duration": 1934,
    "start_time": "2023-08-24T08:28:35.088Z"
   },
   {
    "duration": 816,
    "start_time": "2023-08-24T08:28:37.062Z"
   },
   {
    "duration": 112,
    "start_time": "2023-08-24T08:28:37.881Z"
   },
   {
    "duration": 1692,
    "start_time": "2023-08-24T08:28:37.996Z"
   },
   {
    "duration": 69,
    "start_time": "2023-08-24T08:28:39.690Z"
   },
   {
    "duration": 36,
    "start_time": "2023-08-24T08:28:39.762Z"
   },
   {
    "duration": 467,
    "start_time": "2023-08-24T08:28:39.801Z"
   },
   {
    "duration": 9,
    "start_time": "2023-08-24T08:28:40.271Z"
   },
   {
    "duration": 3197,
    "start_time": "2023-08-24T08:28:40.284Z"
   },
   {
    "duration": 4681,
    "start_time": "2023-08-24T08:28:43.483Z"
   },
   {
    "duration": 30,
    "start_time": "2023-08-24T08:28:48.166Z"
   },
   {
    "duration": 63,
    "start_time": "2023-08-24T08:28:48.198Z"
   },
   {
    "duration": 3340,
    "start_time": "2023-08-24T08:28:48.263Z"
   },
   {
    "duration": 72,
    "start_time": "2023-08-24T08:28:51.605Z"
   },
   {
    "duration": 83,
    "start_time": "2023-08-24T08:28:51.679Z"
   },
   {
    "duration": 2313,
    "start_time": "2023-08-24T08:28:51.765Z"
   },
   {
    "duration": 1433,
    "start_time": "2023-08-24T08:28:54.080Z"
   },
   {
    "duration": 1361,
    "start_time": "2023-08-24T08:28:55.516Z"
   },
   {
    "duration": 3216,
    "start_time": "2023-08-24T08:29:13.754Z"
   },
   {
    "duration": 765,
    "start_time": "2023-08-24T17:35:07.294Z"
   },
   {
    "duration": 15535,
    "start_time": "2023-08-24T17:35:10.736Z"
   },
   {
    "duration": 8735,
    "start_time": "2023-08-24T17:35:30.516Z"
   },
   {
    "duration": 31,
    "start_time": "2023-08-24T17:35:41.962Z"
   },
   {
    "duration": 10272,
    "start_time": "2023-08-24T17:35:44.453Z"
   },
   {
    "duration": 1035,
    "start_time": "2023-08-24T17:35:57.695Z"
   },
   {
    "duration": 3905,
    "start_time": "2023-08-24T17:36:01.644Z"
   },
   {
    "duration": 3712,
    "start_time": "2023-08-24T17:36:08.412Z"
   },
   {
    "duration": 498,
    "start_time": "2023-08-24T17:36:15.030Z"
   },
   {
    "duration": 36,
    "start_time": "2023-08-24T17:36:17.643Z"
   },
   {
    "duration": 2557,
    "start_time": "2023-08-24T17:36:21.972Z"
   },
   {
    "duration": 5,
    "start_time": "2023-08-24T17:36:28.906Z"
   },
   {
    "duration": 44,
    "start_time": "2023-08-24T17:37:11.359Z"
   },
   {
    "duration": 23,
    "start_time": "2023-08-24T17:42:22.455Z"
   },
   {
    "duration": 5,
    "start_time": "2023-08-24T17:42:52.232Z"
   },
   {
    "duration": 46,
    "start_time": "2023-08-24T17:46:17.058Z"
   },
   {
    "duration": 4,
    "start_time": "2023-08-24T17:47:55.820Z"
   },
   {
    "duration": 73,
    "start_time": "2023-08-24T17:48:52.097Z"
   },
   {
    "duration": 7,
    "start_time": "2023-08-24T17:49:10.258Z"
   },
   {
    "duration": 770,
    "start_time": "2023-08-24T17:49:25.208Z"
   },
   {
    "duration": 15783,
    "start_time": "2023-08-24T17:49:25.981Z"
   },
   {
    "duration": 9987,
    "start_time": "2023-08-24T17:49:41.767Z"
   },
   {
    "duration": 107,
    "start_time": "2023-08-24T17:49:51.756Z"
   },
   {
    "duration": 11380,
    "start_time": "2023-08-24T17:49:51.866Z"
   },
   {
    "duration": 1020,
    "start_time": "2023-08-24T17:50:03.248Z"
   },
   {
    "duration": 4399,
    "start_time": "2023-08-24T17:50:04.325Z"
   },
   {
    "duration": 4018,
    "start_time": "2023-08-24T17:50:08.727Z"
   },
   {
    "duration": 504,
    "start_time": "2023-08-24T17:50:12.747Z"
   },
   {
    "duration": 91,
    "start_time": "2023-08-24T17:50:13.253Z"
   },
   {
    "duration": 3281,
    "start_time": "2023-08-24T17:50:13.346Z"
   },
   {
    "duration": 6,
    "start_time": "2023-08-24T17:50:16.629Z"
   },
   {
    "duration": 11,
    "start_time": "2023-08-24T17:50:16.637Z"
   },
   {
    "duration": 19,
    "start_time": "2023-08-24T17:50:16.652Z"
   },
   {
    "duration": 3,
    "start_time": "2023-08-24T17:50:16.725Z"
   },
   {
    "duration": 126,
    "start_time": "2023-08-24T17:50:16.730Z"
   },
   {
    "duration": 2,
    "start_time": "2023-08-24T17:50:16.858Z"
   },
   {
    "duration": 61,
    "start_time": "2023-08-24T17:50:16.864Z"
   },
   {
    "duration": 4,
    "start_time": "2023-08-24T17:50:16.927Z"
   },
   {
    "duration": 12,
    "start_time": "2023-08-24T17:50:16.933Z"
   },
   {
    "duration": 6,
    "start_time": "2023-08-24T17:50:16.946Z"
   },
   {
    "duration": 27,
    "start_time": "2023-08-24T17:50:16.953Z"
   },
   {
    "duration": 8,
    "start_time": "2023-08-24T17:50:16.982Z"
   },
   {
    "duration": 1453,
    "start_time": "2023-08-24T17:50:16.992Z"
   },
   {
    "duration": 2,
    "start_time": "2023-08-24T17:50:18.448Z"
   },
   {
    "duration": 172,
    "start_time": "2023-08-24T17:50:18.452Z"
   },
   {
    "duration": 4,
    "start_time": "2023-08-24T17:50:18.626Z"
   },
   {
    "duration": 7295,
    "start_time": "2023-08-24T17:50:18.632Z"
   },
   {
    "duration": 3,
    "start_time": "2023-08-24T17:50:25.929Z"
   },
   {
    "duration": 6,
    "start_time": "2023-08-24T17:50:25.934Z"
   },
   {
    "duration": 5,
    "start_time": "2023-08-24T17:50:25.942Z"
   },
   {
    "duration": 6,
    "start_time": "2023-08-24T17:50:25.949Z"
   },
   {
    "duration": 72,
    "start_time": "2023-08-24T17:50:25.959Z"
   },
   {
    "duration": 226,
    "start_time": "2023-08-24T17:50:26.033Z"
   },
   {
    "duration": 0,
    "start_time": "2023-08-24T17:50:26.260Z"
   },
   {
    "duration": 0,
    "start_time": "2023-08-24T17:50:26.262Z"
   },
   {
    "duration": 322,
    "start_time": "2023-08-24T17:52:24.407Z"
   },
   {
    "duration": 9,
    "start_time": "2023-08-24T17:52:57.497Z"
   },
   {
    "duration": 610,
    "start_time": "2023-08-24T17:53:04.231Z"
   },
   {
    "duration": 7,
    "start_time": "2023-08-24T17:55:45.535Z"
   },
   {
    "duration": 3,
    "start_time": "2023-08-24T17:55:46.812Z"
   },
   {
    "duration": 6,
    "start_time": "2023-08-24T17:56:00.421Z"
   },
   {
    "duration": 10,
    "start_time": "2023-08-24T17:56:53.497Z"
   },
   {
    "duration": 686,
    "start_time": "2023-08-24T17:57:47.865Z"
   },
   {
    "duration": 15895,
    "start_time": "2023-08-24T17:57:48.553Z"
   },
   {
    "duration": 10698,
    "start_time": "2023-08-24T17:58:04.451Z"
   },
   {
    "duration": 89,
    "start_time": "2023-08-24T17:58:15.151Z"
   },
   {
    "duration": 10610,
    "start_time": "2023-08-24T17:58:15.242Z"
   },
   {
    "duration": 1116,
    "start_time": "2023-08-24T17:58:25.854Z"
   },
   {
    "duration": 4522,
    "start_time": "2023-08-24T17:58:27.025Z"
   },
   {
    "duration": 3876,
    "start_time": "2023-08-24T17:58:31.549Z"
   },
   {
    "duration": 522,
    "start_time": "2023-08-24T17:58:35.428Z"
   },
   {
    "duration": 105,
    "start_time": "2023-08-24T17:58:35.952Z"
   },
   {
    "duration": 3003,
    "start_time": "2023-08-24T17:58:36.059Z"
   },
   {
    "duration": 8,
    "start_time": "2023-08-24T17:58:39.064Z"
   },
   {
    "duration": 3,
    "start_time": "2023-08-24T17:58:39.075Z"
   },
   {
    "duration": 3,
    "start_time": "2023-08-24T17:58:39.082Z"
   },
   {
    "duration": 38,
    "start_time": "2023-08-24T17:58:39.087Z"
   },
   {
    "duration": 55,
    "start_time": "2023-08-24T17:58:39.127Z"
   },
   {
    "duration": 3,
    "start_time": "2023-08-24T17:58:39.184Z"
   },
   {
    "duration": 44,
    "start_time": "2023-08-24T17:58:39.188Z"
   },
   {
    "duration": 5,
    "start_time": "2023-08-24T17:58:39.234Z"
   },
   {
    "duration": 3,
    "start_time": "2023-08-24T17:58:39.241Z"
   },
   {
    "duration": 3,
    "start_time": "2023-08-24T17:58:39.246Z"
   },
   {
    "duration": 4,
    "start_time": "2023-08-24T17:58:39.251Z"
   },
   {
    "duration": 4,
    "start_time": "2023-08-24T17:58:39.256Z"
   },
   {
    "duration": 1471,
    "start_time": "2023-08-24T17:58:39.262Z"
   },
   {
    "duration": 4,
    "start_time": "2023-08-24T17:58:40.735Z"
   },
   {
    "duration": 99,
    "start_time": "2023-08-24T17:58:40.741Z"
   },
   {
    "duration": 4,
    "start_time": "2023-08-24T17:58:40.842Z"
   },
   {
    "duration": 7281,
    "start_time": "2023-08-24T17:58:40.848Z"
   },
   {
    "duration": 2,
    "start_time": "2023-08-24T17:58:48.132Z"
   },
   {
    "duration": 390,
    "start_time": "2023-08-24T17:58:48.136Z"
   },
   {
    "duration": 7,
    "start_time": "2023-08-24T17:58:48.529Z"
   },
   {
    "duration": 18,
    "start_time": "2023-08-24T17:58:48.538Z"
   },
   {
    "duration": 69,
    "start_time": "2023-08-24T17:58:48.559Z"
   },
   {
    "duration": 4,
    "start_time": "2023-08-24T17:58:48.630Z"
   },
   {
    "duration": 9,
    "start_time": "2023-08-24T17:58:48.636Z"
   },
   {
    "duration": 27,
    "start_time": "2023-08-24T17:58:48.647Z"
   },
   {
    "duration": 985,
    "start_time": "2023-08-24T17:58:48.677Z"
   },
   {
    "duration": 0,
    "start_time": "2023-08-24T17:58:49.664Z"
   },
   {
    "duration": 0,
    "start_time": "2023-08-24T17:58:49.666Z"
   },
   {
    "duration": 3,
    "start_time": "2023-08-24T18:00:43.189Z"
   },
   {
    "duration": 3838,
    "start_time": "2023-08-24T18:01:26.412Z"
   },
   {
    "duration": 202,
    "start_time": "2023-08-24T18:02:48.345Z"
   },
   {
    "duration": 8,
    "start_time": "2023-08-24T18:02:54.657Z"
   },
   {
    "duration": 1205,
    "start_time": "2023-08-24T18:02:56.018Z"
   },
   {
    "duration": 1087,
    "start_time": "2023-08-24T18:03:00.181Z"
   },
   {
    "duration": 854,
    "start_time": "2023-08-24T18:03:05.400Z"
   },
   {
    "duration": 699,
    "start_time": "2023-08-24T18:13:11.759Z"
   },
   {
    "duration": 15876,
    "start_time": "2023-08-24T18:13:12.460Z"
   },
   {
    "duration": 9501,
    "start_time": "2023-08-24T18:13:28.339Z"
   },
   {
    "duration": 99,
    "start_time": "2023-08-24T18:13:37.842Z"
   },
   {
    "duration": 10910,
    "start_time": "2023-08-24T18:13:37.944Z"
   },
   {
    "duration": 1168,
    "start_time": "2023-08-24T18:13:48.857Z"
   },
   {
    "duration": 4606,
    "start_time": "2023-08-24T18:13:50.027Z"
   },
   {
    "duration": 3807,
    "start_time": "2023-08-24T18:13:54.635Z"
   },
   {
    "duration": 501,
    "start_time": "2023-08-24T18:13:58.444Z"
   },
   {
    "duration": 98,
    "start_time": "2023-08-24T18:13:58.947Z"
   },
   {
    "duration": 3276,
    "start_time": "2023-08-24T18:13:59.048Z"
   },
   {
    "duration": 8,
    "start_time": "2023-08-24T18:14:02.329Z"
   },
   {
    "duration": 44,
    "start_time": "2023-08-24T18:14:02.339Z"
   },
   {
    "duration": 32,
    "start_time": "2023-08-24T18:14:02.387Z"
   },
   {
    "duration": 9,
    "start_time": "2023-08-24T18:14:02.422Z"
   },
   {
    "duration": 57,
    "start_time": "2023-08-24T18:14:02.433Z"
   },
   {
    "duration": 5,
    "start_time": "2023-08-24T18:14:02.492Z"
   },
   {
    "duration": 35,
    "start_time": "2023-08-24T18:14:02.499Z"
   },
   {
    "duration": 6,
    "start_time": "2023-08-24T18:14:02.536Z"
   },
   {
    "duration": 16,
    "start_time": "2023-08-24T18:14:02.544Z"
   },
   {
    "duration": 19,
    "start_time": "2023-08-24T18:14:02.562Z"
   },
   {
    "duration": 10,
    "start_time": "2023-08-24T18:14:02.583Z"
   },
   {
    "duration": 18,
    "start_time": "2023-08-24T18:14:02.595Z"
   },
   {
    "duration": 1345,
    "start_time": "2023-08-24T18:14:02.615Z"
   },
   {
    "duration": 62,
    "start_time": "2023-08-24T18:14:03.962Z"
   },
   {
    "duration": 114,
    "start_time": "2023-08-24T18:14:04.027Z"
   },
   {
    "duration": 3,
    "start_time": "2023-08-24T18:14:04.143Z"
   },
   {
    "duration": 6814,
    "start_time": "2023-08-24T18:14:04.148Z"
   },
   {
    "duration": 2,
    "start_time": "2023-08-24T18:14:10.964Z"
   },
   {
    "duration": 371,
    "start_time": "2023-08-24T18:14:10.968Z"
   },
   {
    "duration": 8,
    "start_time": "2023-08-24T18:14:11.341Z"
   },
   {
    "duration": 7,
    "start_time": "2023-08-24T18:14:11.351Z"
   },
   {
    "duration": 16,
    "start_time": "2023-08-24T18:14:11.359Z"
   },
   {
    "duration": 5,
    "start_time": "2023-08-24T18:14:11.377Z"
   },
   {
    "duration": 2926,
    "start_time": "2023-08-24T18:14:11.425Z"
   },
   {
    "duration": 204,
    "start_time": "2023-08-24T18:14:14.353Z"
   },
   {
    "duration": 9,
    "start_time": "2023-08-24T18:14:14.625Z"
   },
   {
    "duration": 1208,
    "start_time": "2023-08-24T18:14:14.636Z"
   },
   {
    "duration": 1101,
    "start_time": "2023-08-24T18:14:15.846Z"
   },
   {
    "duration": 990,
    "start_time": "2023-08-24T18:14:16.949Z"
   }
  ],
  "colab": {
   "name": "PySparkSprint.ipynb",
   "provenance": []
  },
  "kernelspec": {
   "display_name": "Python 3 (ipykernel)",
   "language": "python",
   "name": "python3"
  },
  "language_info": {
   "codemirror_mode": {
    "name": "ipython",
    "version": 3
   },
   "file_extension": ".py",
   "mimetype": "text/x-python",
   "name": "python",
   "nbconvert_exporter": "python",
   "pygments_lexer": "ipython3",
   "version": "3.9.13"
  },
  "toc": {
   "base_numbering": 1,
   "nav_menu": {},
   "number_sections": true,
   "sideBar": true,
   "skip_h1_title": true,
   "title_cell": "Table of Contents",
   "title_sidebar": "Contents",
   "toc_cell": false,
   "toc_position": {},
   "toc_section_display": true,
   "toc_window_display": true
  }
 },
 "nbformat": 4,
 "nbformat_minor": 5
}
